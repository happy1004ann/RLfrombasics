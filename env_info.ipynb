{
 "cells": [
  {
   "cell_type": "code",
   "execution_count": 1,
   "metadata": {},
   "outputs": [
    {
     "name": "stdout",
     "output_type": "stream",
     "text": [
      "Python v3.9.16 (main, May 17 2023, 17:49:16) [MSC v.1916 64 bit (AMD64)]\n",
      "NumPy v1.25.0\n",
      "Matplotlib v3.7.1\n",
      "PyTorch v2.0.1\n",
      "Gymnasium v0.28.1\n"
     ]
    }
   ],
   "source": [
    "import sys\n",
    "print(f'Python v{sys.version}')\n",
    "import numpy as np\n",
    "print(f'NumPy v{np.__version__}')\n",
    "import matplotlib\n",
    "print(f'Matplotlib v{matplotlib.__version__}')\n",
    "import torch\n",
    "print(f'PyTorch v{torch.__version__}')\n",
    "import gymnasium as gym\n",
    "print(f'Gymnasium v{gym.__version__}')"
   ]
  }
 ],
 "metadata": {
  "kernelspec": {
   "display_name": "RLfrombasics",
   "language": "python",
   "name": "python3"
  },
  "language_info": {
   "codemirror_mode": {
    "name": "ipython",
    "version": 3
   },
   "file_extension": ".py",
   "mimetype": "text/x-python",
   "name": "python",
   "nbconvert_exporter": "python",
   "pygments_lexer": "ipython3",
   "version": "3.9.16"
  },
  "orig_nbformat": 4
 },
 "nbformat": 4,
 "nbformat_minor": 2
}
